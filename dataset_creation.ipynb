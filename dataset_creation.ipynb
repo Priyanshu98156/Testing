{
 "cells": [
  {
   "cell_type": "code",
   "execution_count": 10,
   "id": "428ad6a9-a8a1-4d24-9cd3-edd83d918372",
   "metadata": {},
   "outputs": [],
   "source": [
    "import pandas as pd \n",
    "import numpy as np \n",
    "import os \n",
    "import fitz"
   ]
  },
  {
   "cell_type": "code",
   "execution_count": 11,
   "id": "a1148e1e-8480-4721-b57b-35bda4ad657d",
   "metadata": {},
   "outputs": [],
   "source": [
    "folder = \"D:\\\\DataSet\"\n",
    "files = os.listdir(folder)"
   ]
  },
  {
   "cell_type": "code",
   "execution_count": 12,
   "id": "b9e0398c-9633-4399-9f9e-7fb6e848ae40",
   "metadata": {},
   "outputs": [],
   "source": [
    "resumes = []\n",
    "files.sort()"
   ]
  },
  {
   "cell_type": "code",
   "execution_count": 13,
   "id": "472cb82a-2038-4707-af1f-45aad58fa86e",
   "metadata": {},
   "outputs": [
    {
     "name": "stdout",
     "output_type": "stream",
     "text": [
      "CSV created\n"
     ]
    }
   ],
   "source": [
    "for file in files:\n",
    "    pdf_path = os.path.join(folder, file)\n",
    "    text = \"\"\n",
    "    doc = fitz.open(pdf_path)\n",
    "    for page in doc:\n",
    "        text += page.get_text(\"text\") + \"\\n\"\n",
    "    doc.close()\n",
    "    resumes.append(text.strip())\n",
    "\n",
    "df = pd.DataFrame({\"resume_text\" : resumes})\n",
    "df.to_csv(\"resume_dataset.csv\", index = False, encoding= \"utf-8\")\n",
    "\n",
    "print(\"CSV created\")"
   ]
  },
  {
   "cell_type": "code",
   "execution_count": 35,
   "id": "9301477b-52fa-4940-92aa-3ac3b74c7d26",
   "metadata": {},
   "outputs": [],
   "source": [
    "jobs = []"
   ]
  },
  {
   "cell_type": "code",
   "execution_count": 14,
   "id": "91702380-1309-4ee6-b2e6-19aca5cf6b54",
   "metadata": {},
   "outputs": [],
   "source": [
    "df = pd.read_csv(\"resume_dataset.csv\")"
   ]
  },
  {
   "cell_type": "code",
   "execution_count": 76,
   "id": "a4b0810e-60f6-450d-83f6-36c891d36307",
   "metadata": {},
   "outputs": [],
   "source": [
    "new_df = pd.DataFrame({\"jobs\" : jobs})"
   ]
  },
  {
   "cell_type": "code",
   "execution_count": 90,
   "id": "ccbb755d-4134-4608-97a2-98391096a6a6",
   "metadata": {},
   "outputs": [],
   "source": [
    "new_df.to_csv(\"jobs_dataset.csv\", index=  False, encoding = \"utf-8\")"
   ]
  },
  {
   "cell_type": "code",
   "execution_count": 92,
   "id": "d3092be6-a661-4bd7-9438-40ab0f3c2c86",
   "metadata": {},
   "outputs": [],
   "source": [
    "jobs_df = pd.read_csv(\"jobs_dataset.csv\")"
   ]
  },
  {
   "cell_type": "code",
   "execution_count": 93,
   "id": "d0477136-fd17-4b21-a6b2-3ba974011eaf",
   "metadata": {},
   "outputs": [
    {
     "name": "stdout",
     "output_type": "stream",
     "text": [
      "<class 'pandas.core.frame.DataFrame'>\n",
      "RangeIndex: 136 entries, 0 to 135\n",
      "Data columns (total 1 columns):\n",
      " #   Column       Non-Null Count  Dtype \n",
      "---  ------       --------------  ----- \n",
      " 0   resume_text  130 non-null    object\n",
      "dtypes: object(1)\n",
      "memory usage: 1.2+ KB\n"
     ]
    }
   ],
   "source": [
    "df.info()\n"
   ]
  },
  {
   "cell_type": "code",
   "execution_count": 94,
   "id": "65db3503-dd48-48dc-9d5c-4ac9bd33d928",
   "metadata": {},
   "outputs": [
    {
     "name": "stdout",
     "output_type": "stream",
     "text": [
      "✅ Combined dataset shape: (1904, 2)\n"
     ]
    }
   ],
   "source": [
    "\n",
    "resumes = pd.read_csv(\"resume_dataset.csv\")   # has column: resume_text\n",
    "jobs = pd.read_csv(\"jobs_dataset.csv\")         # has column: job_description\n",
    "\n",
    "# Add keys to perform cartesian product\n",
    "resumes[\"key\"] = 1\n",
    "jobs[\"key\"] = 1\n",
    "\n",
    "# Cartesian product (cross join)\n",
    "combined = pd.merge(resumes, jobs, on=\"key\").drop(\"key\", axis=1)\n",
    "\n",
    "# Save to CSV\n",
    "combined.to_csv(\"resume_job_pairs.csv\", index=False, encoding=\"utf-8\")\n",
    "\n",
    "print(f\"✅ Combined dataset shape: {combined.shape}\")\n"
   ]
  },
  {
   "cell_type": "code",
   "execution_count": 95,
   "id": "809fd6c5-1eef-4156-9c71-ca0a42a03e29",
   "metadata": {},
   "outputs": [],
   "source": [
    "final_df = pd.read_csv(\"resume_job_pairs.csv\")"
   ]
  },
  {
   "cell_type": "code",
   "execution_count": 96,
   "id": "1bc4b8bf-8da5-4513-9faf-744fb21f7e17",
   "metadata": {},
   "outputs": [
    {
     "name": "stdout",
     "output_type": "stream",
     "text": [
      "<class 'pandas.core.frame.DataFrame'>\n",
      "RangeIndex: 1904 entries, 0 to 1903\n",
      "Data columns (total 2 columns):\n",
      " #   Column       Non-Null Count  Dtype \n",
      "---  ------       --------------  ----- \n",
      " 0   resume_text  1820 non-null   object\n",
      " 1   jobs         1904 non-null   object\n",
      "dtypes: object(2)\n",
      "memory usage: 29.9+ KB\n"
     ]
    }
   ],
   "source": [
    "final_df.info()"
   ]
  },
  {
   "cell_type": "code",
   "execution_count": 99,
   "id": "644188c8-15cf-42ec-9df9-32c6898aea60",
   "metadata": {},
   "outputs": [
    {
     "data": {
      "text/plain": [
       "resume_text     True\n",
       "jobs           False\n",
       "dtype: bool"
      ]
     },
     "execution_count": 99,
     "metadata": {},
     "output_type": "execute_result"
    }
   ],
   "source": [
    "final_df.isnull().any()\n"
   ]
  },
  {
   "cell_type": "code",
   "execution_count": 100,
   "id": "b145b6eb-07b1-4fd4-89ad-acd641932746",
   "metadata": {},
   "outputs": [],
   "source": [
    "final_df = final_df.dropna()\n"
   ]
  },
  {
   "cell_type": "code",
   "execution_count": 101,
   "id": "54f8cda2-415c-44e0-802e-ca63323c4fb6",
   "metadata": {},
   "outputs": [
    {
     "name": "stdout",
     "output_type": "stream",
     "text": [
      "<class 'pandas.core.frame.DataFrame'>\n",
      "Index: 1820 entries, 0 to 1903\n",
      "Data columns (total 2 columns):\n",
      " #   Column       Non-Null Count  Dtype \n",
      "---  ------       --------------  ----- \n",
      " 0   resume_text  1820 non-null   object\n",
      " 1   jobs         1820 non-null   object\n",
      "dtypes: object(2)\n",
      "memory usage: 42.7+ KB\n"
     ]
    }
   ],
   "source": [
    "final_df.info()"
   ]
  },
  {
   "cell_type": "code",
   "execution_count": 104,
   "id": "e5636562-921c-4d45-95ea-9eb294074f80",
   "metadata": {},
   "outputs": [
    {
     "data": {
      "text/plain": [
       "resume_text    False\n",
       "jobs           False\n",
       "dtype: bool"
      ]
     },
     "execution_count": 104,
     "metadata": {},
     "output_type": "execute_result"
    }
   ],
   "source": [
    "final_df.isnull().any()"
   ]
  },
  {
   "cell_type": "code",
   "execution_count": 105,
   "id": "4623e80d-156d-467f-afbd-efca9e04375e",
   "metadata": {},
   "outputs": [],
   "source": [
    "final_df.to_csv(\"final_dataset.csv\", index=  False, encoding = \"utf-8\")"
   ]
  },
  {
   "cell_type": "code",
   "execution_count": null,
   "id": "e813fdd4-0cff-4666-8cdc-ef8f844be3e7",
   "metadata": {},
   "outputs": [],
   "source": []
  },
  {
   "cell_type": "code",
   "execution_count": null,
   "id": "d73ccc91-11c5-4d7c-bd29-2230997fd0bc",
   "metadata": {},
   "outputs": [],
   "source": []
  }
 ],
 "metadata": {
  "kernelspec": {
   "display_name": "Python 3 (ipykernel)",
   "language": "python",
   "name": "python3"
  },
  "language_info": {
   "codemirror_mode": {
    "name": "ipython",
    "version": 3
   },
   "file_extension": ".py",
   "mimetype": "text/x-python",
   "name": "python",
   "nbconvert_exporter": "python",
   "pygments_lexer": "ipython3",
   "version": "3.12.7"
  }
 },
 "nbformat": 4,
 "nbformat_minor": 5
}
